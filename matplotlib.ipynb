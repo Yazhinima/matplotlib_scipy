{
 "cells": [
  {
   "cell_type": "markdown",
   "id": "60e86894",
   "metadata": {},
   "source": [
    "1.Introduction\n",
    "This assignment will help you to consolidate the concepts learnt in the session.\n",
    "\n",
    "2.Problem Statement\n",
    "Scipy:\n",
    "We have the min and max temperatures in a city In India for each months of the year.\n",
    "We would like to find a function to describe this and show it graphically, the dataset\n",
    "given below.\n",
    "Task:\n",
    "1.fitting it to the periodic function\n",
    "2.plot the fit\n",
    "Data\n",
    "Max = 39, 41, 43, 47, 49, 51, 45, 38, 37, 29, 27, 25\n",
    "Min = 21, 23, 27, 28, 32, 35, 31, 28, 21, 19, 17, 18\n",
    "Expected Output:\n",
    "\n",
    "Matplotlib:\n",
    "This assignment is for visualization using matplotlib:\n",
    "data to use:\n",
    "url=https://raw.githubusercontent.com/Geoyi/Cleaning-Titanic-Data/master/titanic_original.csv\n",
    "titanic = pd.read_csv(url)\n",
    "Charts to plot:\n",
    "1. Create a pie chart presenting the male/female proportion\n",
    "2. Create a scatterplot with the Fare paid and the Age, differ the plot color by gender\n",
    "Note: Solution submitted via github must contain all the source code and final\n",
    "graph.\n",
    "3.Expected Output\n",
    "This assignment consists of 200 marks and needs to be submitted in\n",
    ".ipynb format in the upcoming session for evaluation."
   ]
  },
  {
   "cell_type": "code",
   "execution_count": 47,
   "id": "17ed3ce2",
   "metadata": {},
   "outputs": [
    {
     "name": "stdout",
     "output_type": "stream",
     "text": [
      "[ 39.88861733 -10.59083162   1.33370157]\n",
      "[25.55626462 -7.74472963  0.93101294]\n"
     ]
    }
   ],
   "source": [
    "#scipy\n",
    "#1 fitting it to the periodic function\n",
    "\n",
    "import numpy as np\n",
    "from scipy.optimize import curve_fit\n",
    "\n",
    "temp_max = 39, 41, 43, 47, 49, 51, 45, 38, 37, 29, 27, 25\n",
    "temp_min = 21, 23, 27, 28, 32, 35, 31, 28, 21, 19, 17, 18\n",
    "months = np.arange(12)\n",
    "\n",
    "def func_periodic(times, avg, ampl, time_offset):\n",
    "    return (avg+ampl* np.cos((times+time_offset)*2*np.pi/times.max()))\n",
    "fit_max, cov_max = curve_fit(func_periodic, months,temp_max,[40,20,0])\n",
    "fit_min, cov_min = curve_fit(func_periodic, months, temp_min, [-40,20,0])\n",
    "print(fit_max)\n",
    "print(fit_min)\n",
    "\n"
   ]
  },
  {
   "cell_type": "code",
   "execution_count": 54,
   "id": "697c6318",
   "metadata": {},
   "outputs": [
    {
     "data": {
      "image/png": "[encoded data removed]",
      "text/plain": [
       "<Figure size 432x288 with 1 Axes>"
      ]
     },
     "metadata": {
      "needs_background": "light"
     },
     "output_type": "display_data"
    }
   ],
   "source": [
    "#2 plotting the fit\n",
    "days = np.linspace(0, 12, num = 365)\n",
    "plt.figure()\n",
    "plt.plot(months, temp_max, 'yo')\n",
    "plt.plot(days, func_periodic(days, *fit_max), 'y-')\n",
    "plt.plot(months, temp_min, 'go')\n",
    "plt.plot(days, func_periodic(days, *fit_min), 'g-')\n",
    "plt.xlabel('Months')\n",
    "plt.ylabel('Temperature ($^\\circ$C)')\n",
    "plt.show()"
   ]
  },
  {
   "cell_type": "code",
   "execution_count": 2,
   "id": "4f0bcffc",
   "metadata": {},
   "outputs": [],
   "source": [
    "#matplotlib\n",
    "\"\"\"This assignment is for visualization using matplotlib:\n",
    "data to use:\n",
    "url=https://raw.githubusercontent.com/Geoyi/Cleaning-Titanic-Data/master/titanic_original.csv\n",
    "titanic = pd.read_csv(url)\n",
    "Charts to plot:\n",
    "1. Create a pie chart presenting the male/female proportion\n",
    "2. Create a scatterplot with the Fare paid and the Age, differ the plot color by gender\n",
    "Note: Solution submitted via github must contain all the source code and final\n",
    "graph.\n",
    "3.Expected Output\n",
    "This assignment consists of 200 marks and needs to be submitted in\n",
    ".ipynb format in the upcoming session for evaluation.\"\"\"\n",
    "\n",
    "import pandas as pd\n",
    "import matplotlib.pyplot as plt\n",
    "%matplotlib inline\n",
    "\n"
   ]
  },
  {
   "cell_type": "code",
   "execution_count": 3,
   "id": "8da119b4",
   "metadata": {},
   "outputs": [],
   "source": [
    "titanic_df = pd.read_csv(r'https://raw.githubusercontent.com/Geoyi/Cleaning-Titanic-Data/master/titanic_original.csv',sep = ',')\n"
   ]
  },
  {
   "cell_type": "code",
   "execution_count": 6,
   "id": "c641ef81",
   "metadata": {},
   "outputs": [
    {
     "data": {
      "text/html": [
       "<div>\n",
       "<style scoped>\n",
       "    .dataframe tbody tr th:only-of-type {\n",
       "        vertical-align: middle;\n",
       "    }\n",
       "\n",
       "    .dataframe tbody tr th {\n",
       "        vertical-align: top;\n",
       "    }\n",
       "\n",
       "    .dataframe thead th {\n",
       "        text-align: right;\n",
       "    }\n",
       "</style>\n",
       "<table border=\"1\" class=\"dataframe\">\n",
       "  <thead>\n",
       "    <tr style=\"text-align: right;\">\n",
       "      <th></th>\n",
       "      <th>pclass</th>\n",
       "      <th>survived</th>\n",
       "      <th>name</th>\n",
       "      <th>sex</th>\n",
       "      <th>age</th>\n",
       "      <th>sibsp</th>\n",
       "      <th>parch</th>\n",
       "      <th>ticket</th>\n",
       "      <th>fare</th>\n",
       "      <th>cabin</th>\n",
       "      <th>embarked</th>\n",
       "      <th>boat</th>\n",
       "      <th>body</th>\n",
       "      <th>home.dest</th>\n",
       "    </tr>\n",
       "  </thead>\n",
       "  <tbody>\n",
       "    <tr>\n",
       "      <th>0</th>\n",
       "      <td>1.0</td>\n",
       "      <td>1.0</td>\n",
       "      <td>Allen, Miss. Elisabeth Walton</td>\n",
       "      <td>female</td>\n",
       "      <td>29.0000</td>\n",
       "      <td>0.0</td>\n",
       "      <td>0.0</td>\n",
       "      <td>24160</td>\n",
       "      <td>211.3375</td>\n",
       "      <td>B5</td>\n",
       "      <td>S</td>\n",
       "      <td>2</td>\n",
       "      <td>NaN</td>\n",
       "      <td>St Louis, MO</td>\n",
       "    </tr>\n",
       "    <tr>\n",
       "      <th>1</th>\n",
       "      <td>1.0</td>\n",
       "      <td>1.0</td>\n",
       "      <td>Allison, Master. Hudson Trevor</td>\n",
       "      <td>male</td>\n",
       "      <td>0.9167</td>\n",
       "      <td>1.0</td>\n",
       "      <td>2.0</td>\n",
       "      <td>113781</td>\n",
       "      <td>151.5500</td>\n",
       "      <td>C22 C26</td>\n",
       "      <td>S</td>\n",
       "      <td>11</td>\n",
       "      <td>NaN</td>\n",
       "      <td>Montreal, PQ / Chesterville, ON</td>\n",
       "    </tr>\n",
       "    <tr>\n",
       "      <th>2</th>\n",
       "      <td>1.0</td>\n",
       "      <td>0.0</td>\n",
       "      <td>Allison, Miss. Helen Loraine</td>\n",
       "      <td>female</td>\n",
       "      <td>2.0000</td>\n",
       "      <td>1.0</td>\n",
       "      <td>2.0</td>\n",
       "      <td>113781</td>\n",
       "      <td>151.5500</td>\n",
       "      <td>C22 C26</td>\n",
       "      <td>S</td>\n",
       "      <td>NaN</td>\n",
       "      <td>NaN</td>\n",
       "      <td>Montreal, PQ / Chesterville, ON</td>\n",
       "    </tr>\n",
       "    <tr>\n",
       "      <th>3</th>\n",
       "      <td>1.0</td>\n",
       "      <td>0.0</td>\n",
       "      <td>Allison, Mr. Hudson Joshua Creighton</td>\n",
       "      <td>male</td>\n",
       "      <td>30.0000</td>\n",
       "      <td>1.0</td>\n",
       "      <td>2.0</td>\n",
       "      <td>113781</td>\n",
       "      <td>151.5500</td>\n",
       "      <td>C22 C26</td>\n",
       "      <td>S</td>\n",
       "      <td>NaN</td>\n",
       "      <td>135.0</td>\n",
       "      <td>Montreal, PQ / Chesterville, ON</td>\n",
       "    </tr>\n",
       "  </tbody>\n",
       "</table>\n",
       "</div>"
      ],
      "text/plain": [
       "   pclass  survived                                  name     sex      age  \\\n",
       "0     1.0       1.0         Allen, Miss. Elisabeth Walton  female  29.0000   \n",
       "1     1.0       1.0        Allison, Master. Hudson Trevor    male   0.9167   \n",
       "2     1.0       0.0          Allison, Miss. Helen Loraine  female   2.0000   \n",
       "3     1.0       0.0  Allison, Mr. Hudson Joshua Creighton    male  30.0000   \n",
       "\n",
       "   sibsp  parch  ticket      fare    cabin embarked boat   body  \\\n",
       "0    0.0    0.0   24160  211.3375       B5        S    2    NaN   \n",
       "1    1.0    2.0  113781  151.5500  C22 C26        S   11    NaN   \n",
       "2    1.0    2.0  113781  151.5500  C22 C26        S  NaN    NaN   \n",
       "3    1.0    2.0  113781  151.5500  C22 C26        S  NaN  135.0   \n",
       "\n",
       "                         home.dest  \n",
       "0                     St Louis, MO  \n",
       "1  Montreal, PQ / Chesterville, ON  \n",
       "2  Montreal, PQ / Chesterville, ON  \n",
       "3  Montreal, PQ / Chesterville, ON  "
      ]
     },
     "execution_count": 6,
     "metadata": {},
     "output_type": "execute_result"
    }
   ],
   "source": [
    "titanic_df.head(4)"
   ]
  },
  {
   "cell_type": "code",
   "execution_count": 27,
   "id": "415f41af",
   "metadata": {},
   "outputs": [],
   "source": [
    "#1.Pie chart\n",
    "sex_percent = round((titanic_df['sex'].value_counts())/len(titanic_df)*100)\n",
    "titanic_sex = pd.DataFrame(s)"
   ]
  },
  {
   "cell_type": "code",
   "execution_count": 28,
   "id": "4ca0dd86",
   "metadata": {},
   "outputs": [
    {
     "data": {
      "text/plain": [
       "array([<AxesSubplot:ylabel='sex'>], dtype=object)"
      ]
     },
     "execution_count": 28,
     "metadata": {},
     "output_type": "execute_result"
    },
    {
     "data": {
      "image/png": "[encoded data removed]",
      "text/plain": [
       "<Figure size 432x288 with 1 Axes>"
      ]
     },
     "metadata": {},
     "output_type": "display_data"
    }
   ],
   "source": [
    "titanic_sex.plot.pie(subplots = True, labels = sex_percent)"
   ]
  },
  {
   "cell_type": "code",
   "execution_count": 38,
   "id": "5887a882",
   "metadata": {},
   "outputs": [
    {
     "data": {
      "text/plain": [
       "<AxesSubplot:xlabel='age', ylabel='fare'>"
      ]
     },
     "execution_count": 38,
     "metadata": {},
     "output_type": "execute_result"
    },
    {
     "data": {
      "image/png": "[encoded data removed]",
      "text/plain": [
       "<Figure size 432x288 with 1 Axes>"
      ]
     },
     "metadata": {
      "needs_background": "light"
     },
     "output_type": "display_data"
    }
   ],
   "source": [
    "#2.scatter plot for with fare and age to male and female differentiation\n",
    "axis1 = titanic_df[titanic_df.sex=='female'].plot.scatter('age','fare',color='purple',label = 'female')\n",
    "titanic_df[titanic_df.sex=='male'].plot.scatter('age','fare',color='orange',label = 'male',ax = axis1)\n"
   ]
  }
 ],
 "metadata": {
  "kernelspec": {
   "display_name": "Python 3 (ipykernel)",
   "language": "python",
   "name": "python3"
  },
  "language_info": {
   "codemirror_mode": {
    "name": "ipython",
    "version": 3
   },
   "file_extension": ".py",
   "mimetype": "text/x-python",
   "name": "python",
   "nbconvert_exporter": "python",
   "pygments_lexer": "ipython3",
   "version": "3.9.5"
  }
 },
 "nbformat": 4,
 "nbformat_minor": 5
}
